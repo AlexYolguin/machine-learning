{
 "cells": [
  {
   "cell_type": "markdown",
   "metadata": {},
   "source": [
    "**Внимание!!!** Важно, что бы файлы с данными и исполняемый файл находились в одной папке, \n",
    "тогда пути к тестовым и тренировочным наборам будут содержать только имена файлов.\n",
    "\n",
    "В пути к тренировочным и тестовым данным запрежается использовать абсалютную адресацию, \n",
    "то есть адресацию, в которой присутствуют имена папок. Путь должен содержать только имя файла.\n",
    "\n",
    "Напоминание: под моделью машинного обучения понимаются все действия с исходными данными, \n",
    "которые необходимо произвести, что бы сопоставить признаки целевому значению.\n",
    "\n",
    "\n",
    "**ПОДБОР ПАРАМЕТРОВ В ОТДЕЛЬНЫХ ФАЙЛАХ**, важно там сохранять ramdom_seed для повторимости результата\n",
    "данные файлы обязательны к размещению в репозитории\n",
    "\n",
    "\n",
    "**ЦЕЛЬ РАБОТЫ** построить модель **не более, чем на 20 признаках!** \n",
    "\n",
    "В Датасете есть гарантировано шумящие столбцы. Их нужно найти и удалить. Важно сохранить имена оставщихся столбцов (далее - значимых столбцов).\n",
    "\n",
    "**Оценивается метрика MAPE, максимальная ошибка и найденые значимые для модели столбцы.**\n",
    "\n",
    "**Дополнительный балл** оценить вклад значимых признаков (из mask) в максимальную ошибку на тренировочном наборе train значимых признаков (shap)"
   ]
  },
  {
   "cell_type": "markdown",
   "metadata": {},
   "source": [
    "### Подключение библиотек"
   ]
  },
  {
   "cell_type": "code",
   "execution_count": 1,
   "metadata": {},
   "outputs": [],
   "source": [
    "# данный блок предназначен только для подключения необходимых библиотек\n",
    "# запрещается подключать библиотеки в других блоках\n",
    "#\n",
    "# установка дополнительных библиотек размещается прямо здесь (обязательно закоментированы)\n",
    "#\n",
    "# pip install"
   ]
  },
  {
   "cell_type": "code",
   "execution_count": 2,
   "metadata": {},
   "outputs": [],
   "source": [
    "import numpy as np\n",
    "import pandas as pd\n",
    "import matplotlib.pyplot as plt\n",
    "import seaborn as sns\n",
    "from sklearn.model_selection import train_test_split\n",
    "from sklearn.model_selection import GridSearchCV\n",
    "from sklearn.ensemble import GradientBoostingRegressor\n",
    "from sklearn.metrics import mean_absolute_percentage_error\n",
    "from sklearn.metrics import r2_score\n",
    "from sklearn.linear_model import Lasso\n",
    "from sklearn.linear_model import LogisticRegression\n",
    "from sklearn.ensemble import RandomForestRegressor\n",
    "from sklearn.model_selection import RandomizedSearchCV"
   ]
  },
  {
   "cell_type": "markdown",
   "metadata": {},
   "source": [
    "### Обучение и выполнение лучшей модели"
   ]
  },
  {
   "cell_type": "code",
   "execution_count": 3,
   "metadata": {},
   "outputs": [],
   "source": [
    "# В области находится одна, единственная, итоговая модель машинного обучения с однозначными, \n",
    "# зафиксированными параметрами\n",
    "#\n",
    "# В данной области категорически запрещается искать, выбирать, улучшать, оптимизировать, \n",
    "# тюниговать и т.д. модель машинного обучения (тюник в сопровождающих файлах)"
   ]
  },
  {
   "cell_type": "code",
   "execution_count": 4,
   "metadata": {},
   "outputs": [],
   "source": [
    "# Путь к тренировочному набору\n",
    "path_train =  'train_house.csv' # содержит только имя файла, без имен папок\n",
    "# Путь к тестовому набору\n",
    "path_test  =  'test_house.csv'# содержит только имя файла, без имен папок"
   ]
  },
  {
   "cell_type": "code",
   "execution_count": 5,
   "metadata": {},
   "outputs": [],
   "source": [
    "# Блок(и) обучения и поверки модели, а также отбора необходимых значимых столбцов"
   ]
  },
  {
   "cell_type": "code",
   "execution_count": 6,
   "metadata": {},
   "outputs": [],
   "source": [
    "df = pd.read_csv(path_train)\n",
    "test = pd.read_csv(path_test)"
   ]
  },
  {
   "cell_type": "code",
   "execution_count": 7,
   "metadata": {},
   "outputs": [],
   "source": [
    "important_col = ['35',\n",
    " '11',\n",
    " '20',\n",
    " '21',\n",
    " '7',\n",
    " '13',\n",
    " '2',\n",
    " '17',\n",
    " '33',\n",
    " '28',\n",
    " '6',\n",
    " '23',\n",
    " '22',\n",
    " '25',\n",
    " '37',\n",
    " '18',\n",
    " '30']"
   ]
  },
  {
   "cell_type": "code",
   "execution_count": null,
   "metadata": {},
   "outputs": [],
   "source": []
  },
  {
   "cell_type": "code",
   "execution_count": 8,
   "metadata": {},
   "outputs": [],
   "source": [
    "x_train = df[important_col]\n",
    "y_train = df['price']"
   ]
  },
  {
   "cell_type": "code",
   "execution_count": 9,
   "metadata": {},
   "outputs": [],
   "source": [
    "boost = GradientBoostingRegressor(learning_rate=0.01, n_estimators=1000, subsample=0.7)"
   ]
  },
  {
   "cell_type": "code",
   "execution_count": 10,
   "metadata": {},
   "outputs": [
    {
     "data": {
      "text/html": [
       "<style>#sk-container-id-1 {color: black;background-color: white;}#sk-container-id-1 pre{padding: 0;}#sk-container-id-1 div.sk-toggleable {background-color: white;}#sk-container-id-1 label.sk-toggleable__label {cursor: pointer;display: block;width: 100%;margin-bottom: 0;padding: 0.3em;box-sizing: border-box;text-align: center;}#sk-container-id-1 label.sk-toggleable__label-arrow:before {content: \"▸\";float: left;margin-right: 0.25em;color: #696969;}#sk-container-id-1 label.sk-toggleable__label-arrow:hover:before {color: black;}#sk-container-id-1 div.sk-estimator:hover label.sk-toggleable__label-arrow:before {color: black;}#sk-container-id-1 div.sk-toggleable__content {max-height: 0;max-width: 0;overflow: hidden;text-align: left;background-color: #f0f8ff;}#sk-container-id-1 div.sk-toggleable__content pre {margin: 0.2em;color: black;border-radius: 0.25em;background-color: #f0f8ff;}#sk-container-id-1 input.sk-toggleable__control:checked~div.sk-toggleable__content {max-height: 200px;max-width: 100%;overflow: auto;}#sk-container-id-1 input.sk-toggleable__control:checked~label.sk-toggleable__label-arrow:before {content: \"▾\";}#sk-container-id-1 div.sk-estimator input.sk-toggleable__control:checked~label.sk-toggleable__label {background-color: #d4ebff;}#sk-container-id-1 div.sk-label input.sk-toggleable__control:checked~label.sk-toggleable__label {background-color: #d4ebff;}#sk-container-id-1 input.sk-hidden--visually {border: 0;clip: rect(1px 1px 1px 1px);clip: rect(1px, 1px, 1px, 1px);height: 1px;margin: -1px;overflow: hidden;padding: 0;position: absolute;width: 1px;}#sk-container-id-1 div.sk-estimator {font-family: monospace;background-color: #f0f8ff;border: 1px dotted black;border-radius: 0.25em;box-sizing: border-box;margin-bottom: 0.5em;}#sk-container-id-1 div.sk-estimator:hover {background-color: #d4ebff;}#sk-container-id-1 div.sk-parallel-item::after {content: \"\";width: 100%;border-bottom: 1px solid gray;flex-grow: 1;}#sk-container-id-1 div.sk-label:hover label.sk-toggleable__label {background-color: #d4ebff;}#sk-container-id-1 div.sk-serial::before {content: \"\";position: absolute;border-left: 1px solid gray;box-sizing: border-box;top: 0;bottom: 0;left: 50%;z-index: 0;}#sk-container-id-1 div.sk-serial {display: flex;flex-direction: column;align-items: center;background-color: white;padding-right: 0.2em;padding-left: 0.2em;position: relative;}#sk-container-id-1 div.sk-item {position: relative;z-index: 1;}#sk-container-id-1 div.sk-parallel {display: flex;align-items: stretch;justify-content: center;background-color: white;position: relative;}#sk-container-id-1 div.sk-item::before, #sk-container-id-1 div.sk-parallel-item::before {content: \"\";position: absolute;border-left: 1px solid gray;box-sizing: border-box;top: 0;bottom: 0;left: 50%;z-index: -1;}#sk-container-id-1 div.sk-parallel-item {display: flex;flex-direction: column;z-index: 1;position: relative;background-color: white;}#sk-container-id-1 div.sk-parallel-item:first-child::after {align-self: flex-end;width: 50%;}#sk-container-id-1 div.sk-parallel-item:last-child::after {align-self: flex-start;width: 50%;}#sk-container-id-1 div.sk-parallel-item:only-child::after {width: 0;}#sk-container-id-1 div.sk-dashed-wrapped {border: 1px dashed gray;margin: 0 0.4em 0.5em 0.4em;box-sizing: border-box;padding-bottom: 0.4em;background-color: white;}#sk-container-id-1 div.sk-label label {font-family: monospace;font-weight: bold;display: inline-block;line-height: 1.2em;}#sk-container-id-1 div.sk-label-container {text-align: center;}#sk-container-id-1 div.sk-container {/* jupyter's `normalize.less` sets `[hidden] { display: none; }` but bootstrap.min.css set `[hidden] { display: none !important; }` so we also need the `!important` here to be able to override the default hidden behavior on the sphinx rendered scikit-learn.org. See: https://github.com/scikit-learn/scikit-learn/issues/21755 */display: inline-block !important;position: relative;}#sk-container-id-1 div.sk-text-repr-fallback {display: none;}</style><div id=\"sk-container-id-1\" class=\"sk-top-container\"><div class=\"sk-text-repr-fallback\"><pre>GradientBoostingRegressor(learning_rate=0.01, n_estimators=1000, subsample=0.7)</pre><b>In a Jupyter environment, please rerun this cell to show the HTML representation or trust the notebook. <br />On GitHub, the HTML representation is unable to render, please try loading this page with nbviewer.org.</b></div><div class=\"sk-container\" hidden><div class=\"sk-item\"><div class=\"sk-estimator sk-toggleable\"><input class=\"sk-toggleable__control sk-hidden--visually\" id=\"sk-estimator-id-1\" type=\"checkbox\" checked><label for=\"sk-estimator-id-1\" class=\"sk-toggleable__label sk-toggleable__label-arrow\">GradientBoostingRegressor</label><div class=\"sk-toggleable__content\"><pre>GradientBoostingRegressor(learning_rate=0.01, n_estimators=1000, subsample=0.7)</pre></div></div></div></div></div>"
      ],
      "text/plain": [
       "GradientBoostingRegressor(learning_rate=0.01, n_estimators=1000, subsample=0.7)"
      ]
     },
     "execution_count": 10,
     "metadata": {},
     "output_type": "execute_result"
    }
   ],
   "source": [
    "boost.fit(x_train, y_train)"
   ]
  },
  {
   "cell_type": "code",
   "execution_count": 11,
   "metadata": {},
   "outputs": [
    {
     "name": "stdout",
     "output_type": "stream",
     "text": [
      "0.08389461884008849\n"
     ]
    }
   ],
   "source": [
    "\n",
    "y_pred = boost.predict(x_train)\n",
    "print(mean_absolute_percentage_error(y_train,y_pred))\n"
   ]
  },
  {
   "cell_type": "code",
   "execution_count": null,
   "metadata": {},
   "outputs": [],
   "source": []
  },
  {
   "cell_type": "code",
   "execution_count": 12,
   "metadata": {},
   "outputs": [],
   "source": [
    "# Блок предсказания с использованием тестового набора"
   ]
  },
  {
   "cell_type": "code",
   "execution_count": 13,
   "metadata": {
    "scrolled": false
   },
   "outputs": [],
   "source": [
    "# Маска отобраных ** НАЗВАНИЙ СТОЛБЦОВ ** для предсказания из тестового набора\n",
    "mask = important_col\n",
    "X_test = pd.read_csv(path_test)[mask]\n",
    "\n",
    "# Название вектора предсказанных значений  y_predict полученого на основании тестового набора\n",
    "y_predict =  boost.predict(X_test)\n"
   ]
  },
  {
   "cell_type": "code",
   "execution_count": 14,
   "metadata": {},
   "outputs": [
    {
     "data": {
      "text/plain": [
       "array([3342.94050617, 4807.00639323, 3212.18892421, 3371.05460983,\n",
       "       3170.14036986, 3243.76900208, 2924.06805867, 4234.13049606,\n",
       "       2587.84804023, 2632.32595483, 2508.79418521, 2023.65206624,\n",
       "       2613.2884278 , 2793.20500122, 3173.05503156, 5153.9334082 ,\n",
       "       3269.76968102, 4764.40753003, 3377.40046573, 1901.90751679,\n",
       "       2796.60959301, 2673.69618297, 4989.40144604, 4769.1375753 ,\n",
       "       3155.20935673, 2503.57051482, 1892.82192019, 4033.9177996 ,\n",
       "       2434.30411755, 2815.08745357, 5232.92223928, 3881.89692537,\n",
       "       3315.227657  , 3250.44342388, 2997.00367698, 4616.55421883,\n",
       "       2606.55657046, 2770.16952011, 5039.75909485, 2156.68793619,\n",
       "       4320.11720706, 3636.6945194 , 1770.5763249 , 4594.99129984,\n",
       "       2893.09603477, 3930.18048608, 1446.13110822, 2421.01723029,\n",
       "       2692.35419047, 4603.84902643, 2934.6359604 , 2755.10631831,\n",
       "       4430.79052961, 2194.69561988, 4324.73606677, 2446.33733386,\n",
       "       2301.61174875, 2777.05662411, 2672.15079735, 4634.63601599,\n",
       "       4169.2879138 , 3619.15181088, 3689.97716267, 4211.16644208,\n",
       "       3251.14156642, 2940.55292886, 4921.83609757, 2503.76108948,\n",
       "       4737.65876022, 4198.09928977, 3089.69427533, 2947.13997356,\n",
       "       4099.52309696, 3650.91910453, 4668.07676487, 1880.12777307,\n",
       "       4603.02619246, 2701.29571466, 4161.0049974 , 2986.27549354,\n",
       "       2971.07425835, 4497.67428715, 5123.13577399, 2389.29769228,\n",
       "       3443.74721341, 3268.08952359, 3005.37012537, 3371.96990175,\n",
       "       4626.96231125, 4391.61659782, 1868.81782386, 2103.5099958 ,\n",
       "       2133.53560915, 3451.12091213, 4283.8566298 , 3622.44414216,\n",
       "       4054.59003751, 2470.81299484, 4733.88119995, 3941.96305993,\n",
       "       2914.08029797, 2825.02221917, 3672.49867268, 4290.90827935,\n",
       "       5374.08917996, 5603.06568032, 3646.63859104, 2623.16025461,\n",
       "       2498.25107668, 2869.08655105, 2584.81882133, 3258.55670743,\n",
       "       2565.64320312, 4451.80117829, 4667.83978408, 2810.89850496,\n",
       "       2659.06112177, 2236.11205148, 3792.13829009, 3704.15772825,\n",
       "       2119.68788715, 2266.8263604 , 2381.22366783, 2820.3316479 ,\n",
       "       3089.1171892 , 1898.3651287 , 2875.76770688, 3625.69057927,\n",
       "       3109.69520201, 2533.52888585, 3550.15050575, 2808.68637274,\n",
       "       2681.78280516, 1851.14365275, 4626.06207194, 1614.46536241,\n",
       "       2854.02705937, 2859.5536451 , 3361.56532528, 5366.95787596,\n",
       "       1355.91052993, 4141.98314314, 3883.73377375, 3911.61195538,\n",
       "       1846.53493403, 4371.79489694, 3307.43140982, 3895.54161481,\n",
       "       4275.01799189, 3517.93448311, 2717.01041492, 4607.07412866,\n",
       "       2805.85343639, 2810.48026924, 4965.0515232 , 3150.09623772,\n",
       "       3229.92333631, 2979.27005592, 4093.15151686, 3104.12332117,\n",
       "       5120.40449712, 2023.89306481, 1695.02142823, 3942.75999585,\n",
       "       4292.3609887 , 1863.92442438, 3407.69016267, 4859.02416085,\n",
       "       5017.08174278, 3073.00814963, 3892.8066317 , 1951.31284429,\n",
       "       3857.35383402, 3014.44986103, 2554.43556905, 4180.73694997,\n",
       "       4794.42726954, 3340.90953413, 2245.09158027, 2943.89385207,\n",
       "       3811.67903285, 2940.50400319, 2943.79480738, 4840.66320433,\n",
       "       4394.58054747, 4270.28641855, 3931.88093451, 2912.67846103,\n",
       "       2515.21489899, 5064.48743693, 2783.37549987, 4379.51310021,\n",
       "       2635.65714987, 4895.44999688, 2652.30159502, 2702.39878527,\n",
       "       3085.39835587, 3373.51552965, 3493.51681093, 4330.04899882,\n",
       "       2179.79293736, 3677.49250539, 4638.7706518 , 4345.0430087 ,\n",
       "       3239.34114551, 2857.13360395, 3535.79505617, 1885.9423991 ,\n",
       "       4350.85668541, 1706.3499734 , 4560.1172938 , 4588.76879432,\n",
       "       4862.86827582, 2912.22550139, 3422.58385611, 2103.1437428 ,\n",
       "       3622.98538597, 2438.25518426, 2982.8466883 , 5006.13518443,\n",
       "       3505.55898134, 3040.68994048, 2526.96975797, 4916.88937756,\n",
       "       2682.26996705, 2859.94638548, 2506.54107428, 3211.74766623,\n",
       "       4599.33432639, 4859.82813497, 3195.50369696, 2566.81881518,\n",
       "       1641.72796341, 3710.38896255])"
      ]
     },
     "execution_count": 14,
     "metadata": {},
     "output_type": "execute_result"
    }
   ],
   "source": [
    "y_predict"
   ]
  },
  {
   "cell_type": "code",
   "execution_count": 15,
   "metadata": {},
   "outputs": [
    {
     "name": "stdout",
     "output_type": "stream",
     "text": [
      "(234,) (234, 1) 17\n",
      "(234,) (234,)\n",
      "Отрицательные цены -  0\n",
      "Max Error: 1,670\n",
      "MAPE Error: 12.66\n"
     ]
    },
    {
     "data": {
      "image/png": "[encoded data removed]",
      "text/plain": [
       "<Figure size 1500x500 with 2 Axes>"
      ]
     },
     "metadata": {},
     "output_type": "display_data"
    },
    {
     "data": {
      "text/html": [
       "<style type=\"text/css\">\n",
       "#T_0050e_row1_col0, #T_0050e_row1_col1, #T_0050e_row2_col0, #T_0050e_row2_col1, #T_0050e_row7_col0, #T_0050e_row7_col1, #T_0050e_row19_col0, #T_0050e_row19_col1, #T_0050e_row21_col0, #T_0050e_row21_col1, #T_0050e_row24_col0, #T_0050e_row24_col1, #T_0050e_row25_col0, #T_0050e_row25_col1, #T_0050e_row27_col0, #T_0050e_row27_col1, #T_0050e_row28_col0, #T_0050e_row28_col1, #T_0050e_row31_col0, #T_0050e_row31_col1, #T_0050e_row32_col0, #T_0050e_row32_col1, #T_0050e_row33_col0, #T_0050e_row33_col1, #T_0050e_row34_col0, #T_0050e_row34_col1, #T_0050e_row35_col0, #T_0050e_row35_col1, #T_0050e_row36_col0, #T_0050e_row36_col1, #T_0050e_row37_col0, #T_0050e_row37_col1, #T_0050e_row38_col0, #T_0050e_row38_col1 {\n",
       "  background-color: yellow;\n",
       "}\n",
       "</style>\n",
       "<table id=\"T_0050e\">\n",
       "  <thead>\n",
       "    <tr>\n",
       "      <th class=\"blank level0\" >&nbsp;</th>\n",
       "      <th id=\"T_0050e_level0_col0\" class=\"col_heading level0 col0\" >index</th>\n",
       "      <th id=\"T_0050e_level0_col1\" class=\"col_heading level0 col1\" >0</th>\n",
       "    </tr>\n",
       "  </thead>\n",
       "  <tbody>\n",
       "    <tr>\n",
       "      <th id=\"T_0050e_level0_row0\" class=\"row_heading level0 row0\" >0</th>\n",
       "      <td id=\"T_0050e_row0_col0\" class=\"data row0 col0\" >9</td>\n",
       "      <td id=\"T_0050e_row0_col1\" class=\"data row0 col1\" >1</td>\n",
       "    </tr>\n",
       "    <tr>\n",
       "      <th id=\"T_0050e_level0_row1\" class=\"row_heading level0 row1\" >1</th>\n",
       "      <td id=\"T_0050e_row1_col0\" class=\"data row1 col0\" >37</td>\n",
       "      <td id=\"T_0050e_row1_col1\" class=\"data row1 col1\" >log_rnd_1</td>\n",
       "    </tr>\n",
       "    <tr>\n",
       "      <th id=\"T_0050e_level0_row2\" class=\"row_heading level0 row2\" >2</th>\n",
       "      <td id=\"T_0050e_row2_col0\" class=\"data row2 col0\" >17</td>\n",
       "      <td id=\"T_0050e_row2_col1\" class=\"data row2 col1\" >log_rnd_2</td>\n",
       "    </tr>\n",
       "    <tr>\n",
       "      <th id=\"T_0050e_level0_row3\" class=\"row_heading level0 row3\" >3</th>\n",
       "      <td id=\"T_0050e_row3_col0\" class=\"data row3 col0\" >26</td>\n",
       "      <td id=\"T_0050e_row3_col1\" class=\"data row3 col1\" >log_rnd_3</td>\n",
       "    </tr>\n",
       "    <tr>\n",
       "      <th id=\"T_0050e_level0_row4\" class=\"row_heading level0 row4\" >4</th>\n",
       "      <td id=\"T_0050e_row4_col0\" class=\"data row4 col0\" >16</td>\n",
       "      <td id=\"T_0050e_row4_col1\" class=\"data row4 col1\" >onehot__housing_type_(a) single</td>\n",
       "    </tr>\n",
       "    <tr>\n",
       "      <th id=\"T_0050e_level0_row5\" class=\"row_heading level0 row5\" >5</th>\n",
       "      <td id=\"T_0050e_row5_col0\" class=\"data row5 col0\" >3</td>\n",
       "      <td id=\"T_0050e_row5_col1\" class=\"data row5 col1\" >onehot__housing_type_(b) double</td>\n",
       "    </tr>\n",
       "    <tr>\n",
       "      <th id=\"T_0050e_level0_row6\" class=\"row_heading level0 row6\" >6</th>\n",
       "      <td id=\"T_0050e_row6_col0\" class=\"data row6 col0\" >8</td>\n",
       "      <td id=\"T_0050e_row6_col1\" class=\"data row6 col1\" >onehot__housing_type_(c) multi</td>\n",
       "    </tr>\n",
       "    <tr>\n",
       "      <th id=\"T_0050e_level0_row7\" class=\"row_heading level0 row7\" >7</th>\n",
       "      <td id=\"T_0050e_row7_col0\" class=\"data row7 col0\" >21</td>\n",
       "      <td id=\"T_0050e_row7_col1\" class=\"data row7 col1\" >onehot__laundry_(a) in-unit</td>\n",
       "    </tr>\n",
       "    <tr>\n",
       "      <th id=\"T_0050e_level0_row8\" class=\"row_heading level0 row8\" >8</th>\n",
       "      <td id=\"T_0050e_row8_col0\" class=\"data row8 col0\" >5</td>\n",
       "      <td id=\"T_0050e_row8_col1\" class=\"data row8 col1\" >onehot__laundry_(b) on-site</td>\n",
       "    </tr>\n",
       "    <tr>\n",
       "      <th id=\"T_0050e_level0_row9\" class=\"row_heading level0 row9\" >9</th>\n",
       "      <td id=\"T_0050e_row9_col0\" class=\"data row9 col0\" >15</td>\n",
       "      <td id=\"T_0050e_row9_col1\" class=\"data row9 col1\" >onehot__laundry_(c) no laundry</td>\n",
       "    </tr>\n",
       "    <tr>\n",
       "      <th id=\"T_0050e_level0_row10\" class=\"row_heading level0 row10\" >10</th>\n",
       "      <td id=\"T_0050e_row10_col0\" class=\"data row10 col0\" >10</td>\n",
       "      <td id=\"T_0050e_row10_col1\" class=\"data row10 col1\" >onehot__parking_(a) valet</td>\n",
       "    </tr>\n",
       "    <tr>\n",
       "      <th id=\"T_0050e_level0_row11\" class=\"row_heading level0 row11\" >11</th>\n",
       "      <td id=\"T_0050e_row11_col0\" class=\"data row11 col0\" >36</td>\n",
       "      <td id=\"T_0050e_row11_col1\" class=\"data row11 col1\" >onehot__parking_(b) protected</td>\n",
       "    </tr>\n",
       "    <tr>\n",
       "      <th id=\"T_0050e_level0_row12\" class=\"row_heading level0 row12\" >12</th>\n",
       "      <td id=\"T_0050e_row12_col0\" class=\"data row12 col0\" >31</td>\n",
       "      <td id=\"T_0050e_row12_col1\" class=\"data row12 col1\" >onehot__parking_(c) off-street</td>\n",
       "    </tr>\n",
       "    <tr>\n",
       "      <th id=\"T_0050e_level0_row13\" class=\"row_heading level0 row13\" >13</th>\n",
       "      <td id=\"T_0050e_row13_col0\" class=\"data row13 col0\" >29</td>\n",
       "      <td id=\"T_0050e_row13_col1\" class=\"data row13 col1\" >onehot__parking_(d) no parking</td>\n",
       "    </tr>\n",
       "    <tr>\n",
       "      <th id=\"T_0050e_level0_row14\" class=\"row_heading level0 row14\" >14</th>\n",
       "      <td id=\"T_0050e_row14_col0\" class=\"data row14 col0\" >4</td>\n",
       "      <td id=\"T_0050e_row14_col1\" class=\"data row14 col1\" >onehot__pets_(a) both</td>\n",
       "    </tr>\n",
       "    <tr>\n",
       "      <th id=\"T_0050e_level0_row15\" class=\"row_heading level0 row15\" >15</th>\n",
       "      <td id=\"T_0050e_row15_col0\" class=\"data row15 col0\" >27</td>\n",
       "      <td id=\"T_0050e_row15_col1\" class=\"data row15 col1\" >onehot__pets_(b) dogs</td>\n",
       "    </tr>\n",
       "    <tr>\n",
       "      <th id=\"T_0050e_level0_row16\" class=\"row_heading level0 row16\" >16</th>\n",
       "      <td id=\"T_0050e_row16_col0\" class=\"data row16 col0\" >38</td>\n",
       "      <td id=\"T_0050e_row16_col1\" class=\"data row16 col1\" >onehot__pets_(c) cats</td>\n",
       "    </tr>\n",
       "    <tr>\n",
       "      <th id=\"T_0050e_level0_row17\" class=\"row_heading level0 row17\" >17</th>\n",
       "      <td id=\"T_0050e_row17_col0\" class=\"data row17 col0\" >24</td>\n",
       "      <td id=\"T_0050e_row17_col1\" class=\"data row17 col1\" >onehot__pets_(d) no pets</td>\n",
       "    </tr>\n",
       "    <tr>\n",
       "      <th id=\"T_0050e_level0_row18\" class=\"row_heading level0 row18\" >18</th>\n",
       "      <td id=\"T_0050e_row18_col0\" class=\"data row18 col0\" >32</td>\n",
       "      <td id=\"T_0050e_row18_col1\" class=\"data row18 col1\" >rnd_1</td>\n",
       "    </tr>\n",
       "    <tr>\n",
       "      <th id=\"T_0050e_level0_row19\" class=\"row_heading level0 row19\" >19</th>\n",
       "      <td id=\"T_0050e_row19_col0\" class=\"data row19 col0\" >6</td>\n",
       "      <td id=\"T_0050e_row19_col1\" class=\"data row19 col1\" >rnd_2</td>\n",
       "    </tr>\n",
       "    <tr>\n",
       "      <th id=\"T_0050e_level0_row20\" class=\"row_heading level0 row20\" >20</th>\n",
       "      <td id=\"T_0050e_row20_col0\" class=\"data row20 col0\" >19</td>\n",
       "      <td id=\"T_0050e_row20_col1\" class=\"data row20 col1\" >rnd_3</td>\n",
       "    </tr>\n",
       "    <tr>\n",
       "      <th id=\"T_0050e_level0_row21\" class=\"row_heading level0 row21\" >21</th>\n",
       "      <td id=\"T_0050e_row21_col0\" class=\"data row21 col0\" >30</td>\n",
       "      <td id=\"T_0050e_row21_col1\" class=\"data row21 col1\" >rnd_4</td>\n",
       "    </tr>\n",
       "    <tr>\n",
       "      <th id=\"T_0050e_level0_row22\" class=\"row_heading level0 row22\" >22</th>\n",
       "      <td id=\"T_0050e_row22_col0\" class=\"data row22 col0\" >0</td>\n",
       "      <td id=\"T_0050e_row22_col1\" class=\"data row22 col1\" >rnd_5</td>\n",
       "    </tr>\n",
       "    <tr>\n",
       "      <th id=\"T_0050e_level0_row23\" class=\"row_heading level0 row23\" >23</th>\n",
       "      <td id=\"T_0050e_row23_col0\" class=\"data row23 col0\" >1</td>\n",
       "      <td id=\"T_0050e_row23_col1\" class=\"data row23 col1\" >rnd_6</td>\n",
       "    </tr>\n",
       "    <tr>\n",
       "      <th id=\"T_0050e_level0_row24\" class=\"row_heading level0 row24\" >24</th>\n",
       "      <td id=\"T_0050e_row24_col0\" class=\"data row24 col0\" >25</td>\n",
       "      <td id=\"T_0050e_row24_col1\" class=\"data row24 col1\" >rnd_7</td>\n",
       "    </tr>\n",
       "    <tr>\n",
       "      <th id=\"T_0050e_level0_row25\" class=\"row_heading level0 row25\" >25</th>\n",
       "      <td id=\"T_0050e_row25_col0\" class=\"data row25 col0\" >2</td>\n",
       "      <td id=\"T_0050e_row25_col1\" class=\"data row25 col1\" >scale__bath</td>\n",
       "    </tr>\n",
       "    <tr>\n",
       "      <th id=\"T_0050e_level0_row26\" class=\"row_heading level0 row26\" >26</th>\n",
       "      <td id=\"T_0050e_row26_col0\" class=\"data row26 col0\" >12</td>\n",
       "      <td id=\"T_0050e_row26_col1\" class=\"data row26 col1\" >scale__bath scale__hood_district</td>\n",
       "    </tr>\n",
       "    <tr>\n",
       "      <th id=\"T_0050e_level0_row27\" class=\"row_heading level0 row27\" >27</th>\n",
       "      <td id=\"T_0050e_row27_col0\" class=\"data row27 col0\" >11</td>\n",
       "      <td id=\"T_0050e_row27_col1\" class=\"data row27 col1\" >scale__beds</td>\n",
       "    </tr>\n",
       "    <tr>\n",
       "      <th id=\"T_0050e_level0_row28\" class=\"row_heading level0 row28\" >28</th>\n",
       "      <td id=\"T_0050e_row28_col0\" class=\"data row28 col0\" >22</td>\n",
       "      <td id=\"T_0050e_row28_col1\" class=\"data row28 col1\" >scale__beds scale__bath</td>\n",
       "    </tr>\n",
       "    <tr>\n",
       "      <th id=\"T_0050e_level0_row29\" class=\"row_heading level0 row29\" >29</th>\n",
       "      <td id=\"T_0050e_row29_col0\" class=\"data row29 col0\" >34</td>\n",
       "      <td id=\"T_0050e_row29_col1\" class=\"data row29 col1\" >scale__beds scale__bath scale__hood_district</td>\n",
       "    </tr>\n",
       "    <tr>\n",
       "      <th id=\"T_0050e_level0_row30\" class=\"row_heading level0 row30\" >30</th>\n",
       "      <td id=\"T_0050e_row30_col0\" class=\"data row30 col0\" >14</td>\n",
       "      <td id=\"T_0050e_row30_col1\" class=\"data row30 col1\" >scale__beds scale__hood_district</td>\n",
       "    </tr>\n",
       "    <tr>\n",
       "      <th id=\"T_0050e_level0_row31\" class=\"row_heading level0 row31\" >31</th>\n",
       "      <td id=\"T_0050e_row31_col0\" class=\"data row31 col0\" >7</td>\n",
       "      <td id=\"T_0050e_row31_col1\" class=\"data row31 col1\" >scale__hood_district</td>\n",
       "    </tr>\n",
       "    <tr>\n",
       "      <th id=\"T_0050e_level0_row32\" class=\"row_heading level0 row32\" >32</th>\n",
       "      <td id=\"T_0050e_row32_col0\" class=\"data row32 col0\" >35</td>\n",
       "      <td id=\"T_0050e_row32_col1\" class=\"data row32 col1\" >scale__sqft</td>\n",
       "    </tr>\n",
       "    <tr>\n",
       "      <th id=\"T_0050e_level0_row33\" class=\"row_heading level0 row33\" >33</th>\n",
       "      <td id=\"T_0050e_row33_col0\" class=\"data row33 col0\" >13</td>\n",
       "      <td id=\"T_0050e_row33_col1\" class=\"data row33 col1\" >scale__sqft scale__bath</td>\n",
       "    </tr>\n",
       "    <tr>\n",
       "      <th id=\"T_0050e_level0_row34\" class=\"row_heading level0 row34\" >34</th>\n",
       "      <td id=\"T_0050e_row34_col0\" class=\"data row34 col0\" >23</td>\n",
       "      <td id=\"T_0050e_row34_col1\" class=\"data row34 col1\" >scale__sqft scale__bath scale__hood_district</td>\n",
       "    </tr>\n",
       "    <tr>\n",
       "      <th id=\"T_0050e_level0_row35\" class=\"row_heading level0 row35\" >35</th>\n",
       "      <td id=\"T_0050e_row35_col0\" class=\"data row35 col0\" >20</td>\n",
       "      <td id=\"T_0050e_row35_col1\" class=\"data row35 col1\" >scale__sqft scale__beds</td>\n",
       "    </tr>\n",
       "    <tr>\n",
       "      <th id=\"T_0050e_level0_row36\" class=\"row_heading level0 row36\" >36</th>\n",
       "      <td id=\"T_0050e_row36_col0\" class=\"data row36 col0\" >33</td>\n",
       "      <td id=\"T_0050e_row36_col1\" class=\"data row36 col1\" >scale__sqft scale__beds scale__bath</td>\n",
       "    </tr>\n",
       "    <tr>\n",
       "      <th id=\"T_0050e_level0_row37\" class=\"row_heading level0 row37\" >37</th>\n",
       "      <td id=\"T_0050e_row37_col0\" class=\"data row37 col0\" >28</td>\n",
       "      <td id=\"T_0050e_row37_col1\" class=\"data row37 col1\" >scale__sqft scale__beds scale__hood_district</td>\n",
       "    </tr>\n",
       "    <tr>\n",
       "      <th id=\"T_0050e_level0_row38\" class=\"row_heading level0 row38\" >38</th>\n",
       "      <td id=\"T_0050e_row38_col0\" class=\"data row38 col0\" >18</td>\n",
       "      <td id=\"T_0050e_row38_col1\" class=\"data row38 col1\" >scale__sqft scale__hood_district</td>\n",
       "    </tr>\n",
       "  </tbody>\n",
       "</table>\n"
      ],
      "text/plain": [
       "<pandas.io.formats.style.Styler at 0x7fce0c1f6850>"
      ]
     },
     "execution_count": 15,
     "metadata": {},
     "output_type": "execute_result"
    }
   ],
   "source": [
    "from sklearn.metrics import mean_absolute_percentage_error\n",
    "\n",
    "y_true = pd.read_csv(\"test_Y_true_house.csv\")\n",
    "print(y_predict.shape, y_true.shape, len(mask))\n",
    "y_true = y_true.values.reshape(-1)\n",
    "print(y_predict.shape, y_true.shape)\n",
    "print('Отрицательные цены - ', sum(y_predict<0))\n",
    "\n",
    "\n",
    "def plot_2_error(y_true, y_predicted):\n",
    "    residuals = y_true - y_predicted\n",
    "    max_error = max(residuals) if abs(max(residuals)) > abs(min(residuals)) else min(residuals)\n",
    "    max_idx = list(residuals).index(max(residuals)) if abs(max(residuals)) > abs(min(residuals)) else list(residuals).index(min(residuals))\n",
    "    max_true, max_pred = y_true[max_idx], y_predicted[max_idx]\n",
    "    mape = mean_absolute_percentage_error(y_true, y_predict)\n",
    "    print(\"Max Error:\", \"{:,.0f}\".format(max_error))\n",
    "    print(\"MAPE Error:\", \"{:,.2f}\".format(mape*100))\n",
    "\n",
    "    ## Plot predicted vs true\n",
    "    fig, ax = plt.subplots(nrows=1, ncols=2, figsize=(15,5))\n",
    "    from statsmodels.graphics.api import abline_plot\n",
    "    ax[0].scatter(y_predicted, y_true, color=\"black\")\n",
    "    abline_plot(intercept=0, slope=1, color=\"red\", ax=ax[0])\n",
    "    ax[0].vlines(x=max_pred, ymin=max_true, ymax=max_true-max_error, color='red', linestyle='--', alpha=0.7, label=\"max error\")\n",
    "    ax[0].grid(True)\n",
    "    ax[0].set(xlabel=\"Predicted\", ylabel=\"True\", title=\"Predicted vs True\")\n",
    "    ax[0].legend()\n",
    "\n",
    "    ## Plot predicted vs residuals\n",
    "    ax[1].scatter(y_predicted, residuals, color=\"red\")\n",
    "    ax[1].vlines(x=max_pred, ymin=0, ymax=max_error, color='black', linestyle='--', alpha=0.7, label=\"max error\")\n",
    "    ax[1].grid(True)\n",
    "    ax[1].set(xlabel=\"Predicted\", ylabel=\"Residuals\", title=\"Predicted vs Residuals\")\n",
    "    ax[1].hlines(y=0, xmin=np.min(y_predicted), xmax=np.max(y_predicted))\n",
    "    ax[1].legend()\n",
    "    plt.show()\n",
    "\n",
    "plot_2_error(y_true, y_predict)\n",
    "\n",
    "import pickle\n",
    "with open('saved_dictionary.pkl', 'rb') as f:\n",
    "    loaded_dict = pickle.load(f)\n",
    "\n",
    "color_dict = pd.Series(loaded_dict).to_frame().reset_index().sort_values(by=0).reset_index(drop=True)\n",
    "color = (color_dict['index'].isin(mask)).map({True: 'background-color: yellow', False: ''})\n",
    "color_dict.style.apply(lambda s: color)"
   ]
  },
  {
   "cell_type": "code",
   "execution_count": null,
   "metadata": {},
   "outputs": [],
   "source": []
  }
 ],
 "metadata": {
  "kernelspec": {
   "display_name": "Python 3 (ipykernel)",
   "language": "python",
   "name": "python3"
  },
  "language_info": {
   "codemirror_mode": {
    "name": "ipython",
    "version": 3
   },
   "file_extension": ".py",
   "mimetype": "text/x-python",
   "name": "python",
   "nbconvert_exporter": "python",
   "pygments_lexer": "ipython3",
   "version": "3.9.13"
  },
  "vscode": {
   "interpreter": {
    "hash": "acc0dcb458adea865fa90ce4f43fb3956ae49c60606d0d549bfdeff9ec2bcd00"
   }
  }
 },
 "nbformat": 4,
 "nbformat_minor": 2
}
